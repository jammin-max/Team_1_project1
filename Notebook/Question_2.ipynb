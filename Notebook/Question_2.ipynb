{
 "cells": [
  {
   "cell_type": "code",
   "execution_count": 62,
   "metadata": {
    "colab": {
     "base_uri": "https://localhost:8080/"
    },
    "executionInfo": {
     "elapsed": 27252,
     "status": "ok",
     "timestamp": 1620064872995,
     "user": {
      "displayName": "doug krug",
      "photoUrl": "",
      "userId": "11942052013530613265"
     },
     "user_tz": 240
    },
    "id": "RURjwmiJ-JPl",
    "outputId": "ef7ecd2a-de22-4ef4-badd-e8d704d278a0"
   },
   "outputs": [],
   "source": [
    "#from google.colab import drive\n",
    "#drive.mount('/content/drive')"
   ]
  },
  {
   "cell_type": "code",
   "execution_count": 63,
   "metadata": {
    "executionInfo": {
     "elapsed": 1194,
     "status": "ok",
     "timestamp": 1620064878651,
     "user": {
      "displayName": "doug krug",
      "photoUrl": "",
      "userId": "11942052013530613265"
     },
     "user_tz": 240
    },
    "id": "TNSlEg9b99AC"
   },
   "outputs": [],
   "source": [
    "%matplotlib inline\n",
    "import pandas as pd\n",
    "import scipy.stats as stats\n",
    "import warnings\n",
    "warnings.filterwarnings('ignore')\n",
    "import matplotlib\n",
    "import matplotlib.pyplot as plt\n",
    "import numpy as np"
   ]
  },
  {
   "cell_type": "code",
   "execution_count": 64,
   "metadata": {
    "executionInfo": {
     "elapsed": 862,
     "status": "ok",
     "timestamp": 1620064881826,
     "user": {
      "displayName": "doug krug",
      "photoUrl": "",
      "userId": "11942052013530613265"
     },
     "user_tz": 240
    },
    "id": "aQEIT64TBLe8"
   },
   "outputs": [],
   "source": [
    "#Set path for csv\n",
    "path= \"Resources/netflix_titles.csv\""
   ]
  },
  {
   "cell_type": "code",
   "execution_count": 65,
   "metadata": {
    "colab": {
     "base_uri": "https://localhost:8080/",
     "height": 683
    },
    "executionInfo": {
     "elapsed": 1638,
     "status": "ok",
     "timestamp": 1620064885462,
     "user": {
      "displayName": "doug krug",
      "photoUrl": "",
      "userId": "11942052013530613265"
     },
     "user_tz": 240
    },
    "id": "IqN-9-yMBW9w",
    "outputId": "31fa7106-1918-475e-a982-6a4315fe8ed2"
   },
   "outputs": [
    {
     "data": {
      "text/html": [
       "<div>\n",
       "<style scoped>\n",
       "    .dataframe tbody tr th:only-of-type {\n",
       "        vertical-align: middle;\n",
       "    }\n",
       "\n",
       "    .dataframe tbody tr th {\n",
       "        vertical-align: top;\n",
       "    }\n",
       "\n",
       "    .dataframe thead th {\n",
       "        text-align: right;\n",
       "    }\n",
       "</style>\n",
       "<table border=\"1\" class=\"dataframe\">\n",
       "  <thead>\n",
       "    <tr style=\"text-align: right;\">\n",
       "      <th></th>\n",
       "      <th>show_id</th>\n",
       "      <th>type</th>\n",
       "      <th>title</th>\n",
       "      <th>director</th>\n",
       "      <th>cast</th>\n",
       "      <th>country</th>\n",
       "      <th>date_added</th>\n",
       "      <th>release_year</th>\n",
       "      <th>rating</th>\n",
       "      <th>duration</th>\n",
       "      <th>listed_in</th>\n",
       "      <th>description</th>\n",
       "    </tr>\n",
       "  </thead>\n",
       "  <tbody>\n",
       "    <tr>\n",
       "      <th>0</th>\n",
       "      <td>s1</td>\n",
       "      <td>TV Show</td>\n",
       "      <td>3%</td>\n",
       "      <td>NaN</td>\n",
       "      <td>João Miguel, Bianca Comparato, Michel Gomes, R...</td>\n",
       "      <td>Brazil</td>\n",
       "      <td>August 14, 2020</td>\n",
       "      <td>2020</td>\n",
       "      <td>TV-MA</td>\n",
       "      <td>4 Seasons</td>\n",
       "      <td>International TV Shows, TV Dramas, TV Sci-Fi &amp;...</td>\n",
       "      <td>In a future where the elite inhabit an island ...</td>\n",
       "    </tr>\n",
       "    <tr>\n",
       "      <th>1</th>\n",
       "      <td>s2</td>\n",
       "      <td>Movie</td>\n",
       "      <td>7:19</td>\n",
       "      <td>Jorge Michel Grau</td>\n",
       "      <td>Demián Bichir, Héctor Bonilla, Oscar Serrano, ...</td>\n",
       "      <td>Mexico</td>\n",
       "      <td>December 23, 2016</td>\n",
       "      <td>2016</td>\n",
       "      <td>TV-MA</td>\n",
       "      <td>93 min</td>\n",
       "      <td>Dramas, International Movies</td>\n",
       "      <td>After a devastating earthquake hits Mexico Cit...</td>\n",
       "    </tr>\n",
       "    <tr>\n",
       "      <th>2</th>\n",
       "      <td>s3</td>\n",
       "      <td>Movie</td>\n",
       "      <td>23:59</td>\n",
       "      <td>Gilbert Chan</td>\n",
       "      <td>Tedd Chan, Stella Chung, Henley Hii, Lawrence ...</td>\n",
       "      <td>Singapore</td>\n",
       "      <td>December 20, 2018</td>\n",
       "      <td>2011</td>\n",
       "      <td>R</td>\n",
       "      <td>78 min</td>\n",
       "      <td>Horror Movies, International Movies</td>\n",
       "      <td>When an army recruit is found dead, his fellow...</td>\n",
       "    </tr>\n",
       "    <tr>\n",
       "      <th>3</th>\n",
       "      <td>s4</td>\n",
       "      <td>Movie</td>\n",
       "      <td>9</td>\n",
       "      <td>Shane Acker</td>\n",
       "      <td>Elijah Wood, John C. Reilly, Jennifer Connelly...</td>\n",
       "      <td>United States</td>\n",
       "      <td>November 16, 2017</td>\n",
       "      <td>2009</td>\n",
       "      <td>PG-13</td>\n",
       "      <td>80 min</td>\n",
       "      <td>Action &amp; Adventure, Independent Movies, Sci-Fi...</td>\n",
       "      <td>In a postapocalyptic world, rag-doll robots hi...</td>\n",
       "    </tr>\n",
       "    <tr>\n",
       "      <th>4</th>\n",
       "      <td>s5</td>\n",
       "      <td>Movie</td>\n",
       "      <td>21</td>\n",
       "      <td>Robert Luketic</td>\n",
       "      <td>Jim Sturgess, Kevin Spacey, Kate Bosworth, Aar...</td>\n",
       "      <td>United States</td>\n",
       "      <td>January 1, 2020</td>\n",
       "      <td>2008</td>\n",
       "      <td>PG-13</td>\n",
       "      <td>123 min</td>\n",
       "      <td>Dramas</td>\n",
       "      <td>A brilliant group of students become card-coun...</td>\n",
       "    </tr>\n",
       "  </tbody>\n",
       "</table>\n",
       "</div>"
      ],
      "text/plain": [
       "  show_id     type  title           director  \\\n",
       "0      s1  TV Show     3%                NaN   \n",
       "1      s2    Movie   7:19  Jorge Michel Grau   \n",
       "2      s3    Movie  23:59       Gilbert Chan   \n",
       "3      s4    Movie      9        Shane Acker   \n",
       "4      s5    Movie     21     Robert Luketic   \n",
       "\n",
       "                                                cast        country  \\\n",
       "0  João Miguel, Bianca Comparato, Michel Gomes, R...         Brazil   \n",
       "1  Demián Bichir, Héctor Bonilla, Oscar Serrano, ...         Mexico   \n",
       "2  Tedd Chan, Stella Chung, Henley Hii, Lawrence ...      Singapore   \n",
       "3  Elijah Wood, John C. Reilly, Jennifer Connelly...  United States   \n",
       "4  Jim Sturgess, Kevin Spacey, Kate Bosworth, Aar...  United States   \n",
       "\n",
       "          date_added  release_year rating   duration  \\\n",
       "0    August 14, 2020          2020  TV-MA  4 Seasons   \n",
       "1  December 23, 2016          2016  TV-MA     93 min   \n",
       "2  December 20, 2018          2011      R     78 min   \n",
       "3  November 16, 2017          2009  PG-13     80 min   \n",
       "4    January 1, 2020          2008  PG-13    123 min   \n",
       "\n",
       "                                           listed_in  \\\n",
       "0  International TV Shows, TV Dramas, TV Sci-Fi &...   \n",
       "1                       Dramas, International Movies   \n",
       "2                Horror Movies, International Movies   \n",
       "3  Action & Adventure, Independent Movies, Sci-Fi...   \n",
       "4                                             Dramas   \n",
       "\n",
       "                                         description  \n",
       "0  In a future where the elite inhabit an island ...  \n",
       "1  After a devastating earthquake hits Mexico Cit...  \n",
       "2  When an army recruit is found dead, his fellow...  \n",
       "3  In a postapocalyptic world, rag-doll robots hi...  \n",
       "4  A brilliant group of students become card-coun...  "
      ]
     },
     "execution_count": 65,
     "metadata": {},
     "output_type": "execute_result"
    }
   ],
   "source": [
    "#Read csv into notebook\n",
    "netflix = pd.read_csv(path)\n",
    "netflix.head()"
   ]
  },
  {
   "cell_type": "code",
   "execution_count": 66,
   "metadata": {
    "colab": {
     "base_uri": "https://localhost:8080/",
     "height": 204
    },
    "executionInfo": {
     "elapsed": 531,
     "status": "ok",
     "timestamp": 1620064889540,
     "user": {
      "displayName": "doug krug",
      "photoUrl": "",
      "userId": "11942052013530613265"
     },
     "user_tz": 240
    },
    "id": "0iVhhFTrBXBM",
    "outputId": "9c77521f-c628-4bc8-cf52-1f86ff820796"
   },
   "outputs": [
    {
     "data": {
      "text/html": [
       "<div>\n",
       "<style scoped>\n",
       "    .dataframe tbody tr th:only-of-type {\n",
       "        vertical-align: middle;\n",
       "    }\n",
       "\n",
       "    .dataframe tbody tr th {\n",
       "        vertical-align: top;\n",
       "    }\n",
       "\n",
       "    .dataframe thead th {\n",
       "        text-align: right;\n",
       "    }\n",
       "</style>\n",
       "<table border=\"1\" class=\"dataframe\">\n",
       "  <thead>\n",
       "    <tr style=\"text-align: right;\">\n",
       "      <th></th>\n",
       "      <th>title</th>\n",
       "      <th>type</th>\n",
       "      <th>release_year</th>\n",
       "      <th>listed_in</th>\n",
       "    </tr>\n",
       "  </thead>\n",
       "  <tbody>\n",
       "    <tr>\n",
       "      <th>0</th>\n",
       "      <td>3%</td>\n",
       "      <td>TV Show</td>\n",
       "      <td>2020</td>\n",
       "      <td>International TV Shows, TV Dramas, TV Sci-Fi &amp;...</td>\n",
       "    </tr>\n",
       "    <tr>\n",
       "      <th>1</th>\n",
       "      <td>7:19</td>\n",
       "      <td>Movie</td>\n",
       "      <td>2016</td>\n",
       "      <td>Dramas, International Movies</td>\n",
       "    </tr>\n",
       "    <tr>\n",
       "      <th>2</th>\n",
       "      <td>23:59</td>\n",
       "      <td>Movie</td>\n",
       "      <td>2011</td>\n",
       "      <td>Horror Movies, International Movies</td>\n",
       "    </tr>\n",
       "    <tr>\n",
       "      <th>3</th>\n",
       "      <td>9</td>\n",
       "      <td>Movie</td>\n",
       "      <td>2009</td>\n",
       "      <td>Action &amp; Adventure, Independent Movies, Sci-Fi...</td>\n",
       "    </tr>\n",
       "    <tr>\n",
       "      <th>4</th>\n",
       "      <td>21</td>\n",
       "      <td>Movie</td>\n",
       "      <td>2008</td>\n",
       "      <td>Dramas</td>\n",
       "    </tr>\n",
       "  </tbody>\n",
       "</table>\n",
       "</div>"
      ],
      "text/plain": [
       "   title     type  release_year  \\\n",
       "0     3%  TV Show          2020   \n",
       "1   7:19    Movie          2016   \n",
       "2  23:59    Movie          2011   \n",
       "3      9    Movie          2009   \n",
       "4     21    Movie          2008   \n",
       "\n",
       "                                           listed_in  \n",
       "0  International TV Shows, TV Dramas, TV Sci-Fi &...  \n",
       "1                       Dramas, International Movies  \n",
       "2                Horror Movies, International Movies  \n",
       "3  Action & Adventure, Independent Movies, Sci-Fi...  \n",
       "4                                             Dramas  "
      ]
     },
     "execution_count": 66,
     "metadata": {},
     "output_type": "execute_result"
    }
   ],
   "source": [
    "#Created new dataframe pulling only data needed for this task\n",
    "netflix_release_genre = netflix[[\"title\", \"type\", \"release_year\", \"listed_in\"]]\n",
    "netflix_release_genre.head()"
   ]
  },
  {
   "cell_type": "code",
   "execution_count": 67,
   "metadata": {
    "colab": {
     "base_uri": "https://localhost:8080/",
     "height": 204
    },
    "executionInfo": {
     "elapsed": 731,
     "status": "ok",
     "timestamp": 1620064902001,
     "user": {
      "displayName": "doug krug",
      "photoUrl": "",
      "userId": "11942052013530613265"
     },
     "user_tz": 240
    },
    "id": "3vUHJugYBXE0",
    "outputId": "ce6ed477-b79a-4ed3-9af7-f46d833731ce"
   },
   "outputs": [
    {
     "data": {
      "text/html": [
       "<div>\n",
       "<style scoped>\n",
       "    .dataframe tbody tr th:only-of-type {\n",
       "        vertical-align: middle;\n",
       "    }\n",
       "\n",
       "    .dataframe tbody tr th {\n",
       "        vertical-align: top;\n",
       "    }\n",
       "\n",
       "    .dataframe thead th {\n",
       "        text-align: right;\n",
       "    }\n",
       "</style>\n",
       "<table border=\"1\" class=\"dataframe\">\n",
       "  <thead>\n",
       "    <tr style=\"text-align: right;\">\n",
       "      <th></th>\n",
       "      <th>title</th>\n",
       "      <th>type</th>\n",
       "      <th>release_year</th>\n",
       "      <th>listed_in</th>\n",
       "    </tr>\n",
       "  </thead>\n",
       "  <tbody>\n",
       "    <tr>\n",
       "      <th>27</th>\n",
       "      <td>#Alive</td>\n",
       "      <td>Movie</td>\n",
       "      <td>2020</td>\n",
       "      <td>Horror Movies, International Movies, Thrillers</td>\n",
       "    </tr>\n",
       "    <tr>\n",
       "      <th>30</th>\n",
       "      <td>#cats_the_mewvie</td>\n",
       "      <td>Movie</td>\n",
       "      <td>2020</td>\n",
       "      <td>Documentaries, International Movies</td>\n",
       "    </tr>\n",
       "    <tr>\n",
       "      <th>32</th>\n",
       "      <td>#FriendButMarried 2</td>\n",
       "      <td>Movie</td>\n",
       "      <td>2020</td>\n",
       "      <td>Dramas, International Movies, Romantic Movies</td>\n",
       "    </tr>\n",
       "    <tr>\n",
       "      <th>43</th>\n",
       "      <td>Òlòtūré</td>\n",
       "      <td>Movie</td>\n",
       "      <td>2020</td>\n",
       "      <td>Dramas, International Movies</td>\n",
       "    </tr>\n",
       "    <tr>\n",
       "      <th>57</th>\n",
       "      <td>100% Halal</td>\n",
       "      <td>Movie</td>\n",
       "      <td>2020</td>\n",
       "      <td>Dramas, International Movies</td>\n",
       "    </tr>\n",
       "  </tbody>\n",
       "</table>\n",
       "</div>"
      ],
      "text/plain": [
       "                  title   type  release_year  \\\n",
       "27               #Alive  Movie          2020   \n",
       "30     #cats_the_mewvie  Movie          2020   \n",
       "32  #FriendButMarried 2  Movie          2020   \n",
       "43              Òlòtūré  Movie          2020   \n",
       "57           100% Halal  Movie          2020   \n",
       "\n",
       "                                         listed_in  \n",
       "27  Horror Movies, International Movies, Thrillers  \n",
       "30             Documentaries, International Movies  \n",
       "32   Dramas, International Movies, Romantic Movies  \n",
       "43                    Dramas, International Movies  \n",
       "57                    Dramas, International Movies  "
      ]
     },
     "execution_count": 67,
     "metadata": {},
     "output_type": "execute_result"
    }
   ],
   "source": [
    "#Sorted dataframe to only show movies that were released int 2020\n",
    "netflix_2020 = netflix_release_genre.loc[(netflix_release_genre['release_year'] == 2020) & (netflix_release_genre['type'] == \"Movie\")]\n",
    "netflix_2020.head()"
   ]
  },
  {
   "cell_type": "code",
   "execution_count": 68,
   "metadata": {
    "colab": {
     "base_uri": "https://localhost:8080/",
     "height": 615
    },
    "executionInfo": {
     "elapsed": 794,
     "status": "ok",
     "timestamp": 1620064908782,
     "user": {
      "displayName": "doug krug",
      "photoUrl": "",
      "userId": "11942052013530613265"
     },
     "user_tz": 240
    },
    "id": "1m6SpkE0BXK3",
    "outputId": "e3bcfaec-27de-47a9-b5c2-e3c0c4c62623"
   },
   "outputs": [
    {
     "data": {
      "text/html": [
       "<div>\n",
       "<style scoped>\n",
       "    .dataframe tbody tr th:only-of-type {\n",
       "        vertical-align: middle;\n",
       "    }\n",
       "\n",
       "    .dataframe tbody tr th {\n",
       "        vertical-align: top;\n",
       "    }\n",
       "\n",
       "    .dataframe thead th {\n",
       "        text-align: right;\n",
       "    }\n",
       "</style>\n",
       "<table border=\"1\" class=\"dataframe\">\n",
       "  <thead>\n",
       "    <tr style=\"text-align: right;\">\n",
       "      <th></th>\n",
       "      <th>title</th>\n",
       "      <th>type</th>\n",
       "      <th>release_year</th>\n",
       "      <th>genre_1</th>\n",
       "      <th>genre_2</th>\n",
       "      <th>genre_3</th>\n",
       "    </tr>\n",
       "  </thead>\n",
       "  <tbody>\n",
       "    <tr>\n",
       "      <th>27</th>\n",
       "      <td>#Alive</td>\n",
       "      <td>Movie</td>\n",
       "      <td>2020</td>\n",
       "      <td>Horror Movies</td>\n",
       "      <td>International Movies</td>\n",
       "      <td>Thrillers</td>\n",
       "    </tr>\n",
       "    <tr>\n",
       "      <th>30</th>\n",
       "      <td>#cats_the_mewvie</td>\n",
       "      <td>Movie</td>\n",
       "      <td>2020</td>\n",
       "      <td>Documentaries</td>\n",
       "      <td>International Movies</td>\n",
       "      <td>None</td>\n",
       "    </tr>\n",
       "    <tr>\n",
       "      <th>32</th>\n",
       "      <td>#FriendButMarried 2</td>\n",
       "      <td>Movie</td>\n",
       "      <td>2020</td>\n",
       "      <td>Dramas</td>\n",
       "      <td>International Movies</td>\n",
       "      <td>Romantic Movies</td>\n",
       "    </tr>\n",
       "    <tr>\n",
       "      <th>43</th>\n",
       "      <td>Òlòtūré</td>\n",
       "      <td>Movie</td>\n",
       "      <td>2020</td>\n",
       "      <td>Dramas</td>\n",
       "      <td>International Movies</td>\n",
       "      <td>None</td>\n",
       "    </tr>\n",
       "    <tr>\n",
       "      <th>57</th>\n",
       "      <td>100% Halal</td>\n",
       "      <td>Movie</td>\n",
       "      <td>2020</td>\n",
       "      <td>Dramas</td>\n",
       "      <td>International Movies</td>\n",
       "      <td>None</td>\n",
       "    </tr>\n",
       "  </tbody>\n",
       "</table>\n",
       "</div>"
      ],
      "text/plain": [
       "                  title   type  release_year        genre_1  \\\n",
       "27               #Alive  Movie          2020  Horror Movies   \n",
       "30     #cats_the_mewvie  Movie          2020  Documentaries   \n",
       "32  #FriendButMarried 2  Movie          2020         Dramas   \n",
       "43              Òlòtūré  Movie          2020         Dramas   \n",
       "57           100% Halal  Movie          2020         Dramas   \n",
       "\n",
       "                 genre_2          genre_3  \n",
       "27  International Movies        Thrillers  \n",
       "30  International Movies             None  \n",
       "32  International Movies  Romantic Movies  \n",
       "43  International Movies             None  \n",
       "57  International Movies             None  "
      ]
     },
     "execution_count": 68,
     "metadata": {},
     "output_type": "execute_result"
    }
   ],
   "source": [
    "#Split the listed_in column on the \", \" and stored each split in a new column per row\n",
    "new = netflix_2020['listed_in'].str.split(\", \", n = 2, expand=True)\n",
    "#new = netflix_2020.loc[:,('listed_in')].str.split(\", \", n = 2, expand=True)\n",
    "netflix_2020['genre_1'] = new[0]\n",
    "#netflix_2020.loc[:,('genre_1')] = new[0]\n",
    "netflix_2020['genre_2'] = new[1]\n",
    "netflix_2020['genre_3'] = new[2]\n",
    "netflix_2020.drop(columns=['listed_in'], inplace=True)\n",
    "\n",
    "netflix_2020.head()"
   ]
  },
  {
   "cell_type": "code",
   "execution_count": 69,
   "metadata": {
    "executionInfo": {
     "elapsed": 807,
     "status": "ok",
     "timestamp": 1620064921560,
     "user": {
      "displayName": "doug krug",
      "photoUrl": "",
      "userId": "11942052013530613265"
     },
     "user_tz": 240
    },
    "id": "2Xha5OO0BXON"
   },
   "outputs": [],
   "source": [
    "#Removed \"None\" and \"Movies\" as it was either data not needed or bad data\n",
    "unwanted = {None, 'Movies'}\n",
    "movie_type_1 = (netflix_2020['genre_1'])\n",
    "movie_type_1 = [x for x in movie_type_1 if x not in unwanted]\n",
    "movie_type_2 = (netflix_2020['genre_2'])\n",
    "movie_type_2 = [x for x in movie_type_2 if x not in unwanted]\n",
    "movie_type_3 = (netflix_2020['genre_3'])\n",
    "movie_type_3 = [x for x in movie_type_3 if x not in unwanted]\n"
   ]
  },
  {
   "cell_type": "code",
   "execution_count": 70,
   "metadata": {
    "colab": {
     "base_uri": "https://localhost:8080/"
    },
    "executionInfo": {
     "elapsed": 753,
     "status": "ok",
     "timestamp": 1620064925104,
     "user": {
      "displayName": "doug krug",
      "photoUrl": "",
      "userId": "11942052013530613265"
     },
     "user_tz": 240
    },
    "id": "akMlGCWnVMlv",
    "outputId": "36638526-108a-4268-8eaf-7130630e4d3c"
   },
   "outputs": [
    {
     "name": "stdout",
     "output_type": "stream",
     "text": [
      "409\n",
      "284\n",
      "132\n"
     ]
    }
   ],
   "source": [
    "print(len(movie_type_1))\n",
    "print(len(movie_type_2))\n",
    "print(len(movie_type_3))"
   ]
  },
  {
   "cell_type": "code",
   "execution_count": 71,
   "metadata": {
    "colab": {
     "base_uri": "https://localhost:8080/"
    },
    "executionInfo": {
     "elapsed": 701,
     "status": "ok",
     "timestamp": 1620064928665,
     "user": {
      "displayName": "doug krug",
      "photoUrl": "",
      "userId": "11942052013530613265"
     },
     "user_tz": 240
    },
    "id": "SpbKh8m3BXQ4",
    "outputId": "35e025f4-c2f6-40c6-a344-7e3833b9d372"
   },
   "outputs": [
    {
     "data": {
      "text/plain": [
       "['Music & Musicals',\n",
       " 'Horror Movies',\n",
       " 'Stand-Up Comedy',\n",
       " 'Children & Family Movies',\n",
       " 'Action & Adventure',\n",
       " 'Thrillers',\n",
       " 'Anime Features',\n",
       " 'Independent Movies',\n",
       " 'Dramas',\n",
       " 'Documentaries',\n",
       " 'International Movies',\n",
       " 'Comedies',\n",
       " 'Romantic Movies',\n",
       " 'LGBTQ Movies',\n",
       " 'Sports Movies',\n",
       " 'Sci-Fi & Fantasy',\n",
       " 'Faith & Spirituality']"
      ]
     },
     "execution_count": 71,
     "metadata": {},
     "output_type": "execute_result"
    }
   ],
   "source": [
    "#Created a list to store the genre/categories from first genre column\n",
    "movie_type = set(movie_type_1)\n",
    "genres = list(movie_type)\n",
    "#Added genres from the 2nd and 3rd column while removing duplicates\n",
    "genres.extend(genre for genre in movie_type_2 if genre not in genres)\n",
    "genres.extend(genre for genre in movie_type_3 if genre not in genres)\n",
    "\n",
    "genres"
   ]
  },
  {
   "cell_type": "code",
   "execution_count": 72,
   "metadata": {
    "executionInfo": {
     "elapsed": 535,
     "status": "ok",
     "timestamp": 1620064944532,
     "user": {
      "displayName": "doug krug",
      "photoUrl": "",
      "userId": "11942052013530613265"
     },
     "user_tz": 240
    },
    "id": "qkA-Z44ABXTn"
   },
   "outputs": [],
   "source": [
    "#Created dictionary without values to hold count results\n",
    "genre_dict = {'Comedies' : None,\n",
    " 'International Movies' : None,\n",
    " 'Anime Features' : None,\n",
    " 'Independent Movies' : None,\n",
    " 'Documentaries' : None,\n",
    " 'Music & Musicals' : None,\n",
    " 'Action & Adventure' : None,\n",
    " 'Thrillers' : None,\n",
    " 'Stand-Up Comedy' : None,\n",
    " 'Children & Family Movies' : None,\n",
    " 'Dramas' : None,\n",
    " 'Horror Movies' : None,\n",
    " 'Romantic Movies' : None,\n",
    " 'LGBTQ Movies' : None,\n",
    " 'Sports Movies' : None,\n",
    " 'Sci-Fi & Fantasy' : None,\n",
    " 'Faith & Spirituality' : None}"
   ]
  },
  {
   "cell_type": "code",
   "execution_count": 73,
   "metadata": {
    "executionInfo": {
     "elapsed": 658,
     "status": "ok",
     "timestamp": 1620064961539,
     "user": {
      "displayName": "doug krug",
      "photoUrl": "",
      "userId": "11942052013530613265"
     },
     "user_tz": 240
    },
    "id": "XoR7VQCHBXWt"
   },
   "outputs": [],
   "source": [
    "#Used for loop to iderate through the dataframe and count how many times each genre appeared\n",
    "for genre in genre_dict:\n",
    "\n",
    "  g_count = netflix_2020[netflix_2020 == genre].count()\n",
    "  genre_dict[genre] = g_count\n",
    " "
   ]
  },
  {
   "cell_type": "code",
   "execution_count": 74,
   "metadata": {
    "colab": {
     "base_uri": "https://localhost:8080/"
    },
    "executionInfo": {
     "elapsed": 537,
     "status": "ok",
     "timestamp": 1620064964959,
     "user": {
      "displayName": "doug krug",
      "photoUrl": "",
      "userId": "11942052013530613265"
     },
     "user_tz": 240
    },
    "id": "HHUeP85fBXZp",
    "outputId": "393cc2ca-6f01-41da-83b1-a96b9c35e495"
   },
   "outputs": [
    {
     "data": {
      "text/plain": [
       "{'Comedies': title            0\n",
       " type             0\n",
       " release_year     0\n",
       " genre_1         71\n",
       " genre_2         38\n",
       " genre_3          1\n",
       " dtype: int64,\n",
       " 'International Movies': title             0\n",
       " type              0\n",
       " release_year      0\n",
       " genre_1           9\n",
       " genre_2         120\n",
       " genre_3          32\n",
       " dtype: int64,\n",
       " 'Anime Features': title           0\n",
       " type            0\n",
       " release_year    0\n",
       " genre_1         1\n",
       " genre_2         2\n",
       " genre_3         0\n",
       " dtype: int64,\n",
       " 'Independent Movies': title            0\n",
       " type             0\n",
       " release_year     0\n",
       " genre_1          1\n",
       " genre_2         23\n",
       " genre_3         11\n",
       " dtype: int64,\n",
       " 'Documentaries': title            0\n",
       " type             0\n",
       " release_year     0\n",
       " genre_1         57\n",
       " genre_2          2\n",
       " genre_3          0\n",
       " dtype: int64,\n",
       " 'Music & Musicals': title            0\n",
       " type             0\n",
       " release_year     0\n",
       " genre_1          3\n",
       " genre_2         13\n",
       " genre_3         11\n",
       " dtype: int64,\n",
       " 'Action & Adventure': title            0\n",
       " type             0\n",
       " release_year     0\n",
       " genre_1         38\n",
       " genre_2          0\n",
       " genre_3          0\n",
       " dtype: int64,\n",
       " 'Thrillers': title            0\n",
       " type             0\n",
       " release_year     0\n",
       " genre_1          3\n",
       " genre_2         12\n",
       " genre_3         20\n",
       " dtype: int64,\n",
       " 'Stand-Up Comedy': title            0\n",
       " type             0\n",
       " release_year     0\n",
       " genre_1         41\n",
       " genre_2          0\n",
       " genre_3          0\n",
       " dtype: int64,\n",
       " 'Children & Family Movies': title            0\n",
       " type             0\n",
       " release_year     0\n",
       " genre_1         76\n",
       " genre_2          3\n",
       " genre_3          0\n",
       " dtype: int64,\n",
       " 'Dramas': title            0\n",
       " type             0\n",
       " release_year     0\n",
       " genre_1         89\n",
       " genre_2         40\n",
       " genre_3          6\n",
       " dtype: int64,\n",
       " 'Horror Movies': title            0\n",
       " type             0\n",
       " release_year     0\n",
       " genre_1         20\n",
       " genre_2          4\n",
       " genre_3          0\n",
       " dtype: int64,\n",
       " 'Romantic Movies': title            0\n",
       " type             0\n",
       " release_year     0\n",
       " genre_1          0\n",
       " genre_2         12\n",
       " genre_3         33\n",
       " dtype: int64,\n",
       " 'LGBTQ Movies': title            0\n",
       " type             0\n",
       " release_year     0\n",
       " genre_1          0\n",
       " genre_2         11\n",
       " genre_3          4\n",
       " dtype: int64,\n",
       " 'Sports Movies': title            0\n",
       " type             0\n",
       " release_year     0\n",
       " genre_1          0\n",
       " genre_2          3\n",
       " genre_3         12\n",
       " dtype: int64,\n",
       " 'Sci-Fi & Fantasy': title           0\n",
       " type            0\n",
       " release_year    0\n",
       " genre_1         0\n",
       " genre_2         1\n",
       " genre_3         0\n",
       " dtype: int64,\n",
       " 'Faith & Spirituality': title           0\n",
       " type            0\n",
       " release_year    0\n",
       " genre_1         0\n",
       " genre_2         0\n",
       " genre_3         2\n",
       " dtype: int64}"
      ]
     },
     "execution_count": 74,
     "metadata": {},
     "output_type": "execute_result"
    }
   ],
   "source": [
    "genre_dict"
   ]
  },
  {
   "cell_type": "code",
   "execution_count": 75,
   "metadata": {
    "colab": {
     "base_uri": "https://localhost:8080/",
     "height": 576
    },
    "executionInfo": {
     "elapsed": 861,
     "status": "ok",
     "timestamp": 1620064979139,
     "user": {
      "displayName": "doug krug",
      "photoUrl": "",
      "userId": "11942052013530613265"
     },
     "user_tz": 240
    },
    "id": "TQ8eQ8Qm4v2P",
    "outputId": "5546a160-aec0-4d6f-805a-3368825514be"
   },
   "outputs": [
    {
     "data": {
      "text/html": [
       "<div>\n",
       "<style scoped>\n",
       "    .dataframe tbody tr th:only-of-type {\n",
       "        vertical-align: middle;\n",
       "    }\n",
       "\n",
       "    .dataframe tbody tr th {\n",
       "        vertical-align: top;\n",
       "    }\n",
       "\n",
       "    .dataframe thead th {\n",
       "        text-align: right;\n",
       "    }\n",
       "</style>\n",
       "<table border=\"1\" class=\"dataframe\">\n",
       "  <thead>\n",
       "    <tr style=\"text-align: right;\">\n",
       "      <th></th>\n",
       "      <th>title</th>\n",
       "      <th>type</th>\n",
       "      <th>release_year</th>\n",
       "      <th>genre_1</th>\n",
       "      <th>genre_2</th>\n",
       "      <th>genre_3</th>\n",
       "    </tr>\n",
       "  </thead>\n",
       "  <tbody>\n",
       "    <tr>\n",
       "      <th>Comedies</th>\n",
       "      <td>0</td>\n",
       "      <td>0</td>\n",
       "      <td>0</td>\n",
       "      <td>71</td>\n",
       "      <td>38</td>\n",
       "      <td>1</td>\n",
       "    </tr>\n",
       "    <tr>\n",
       "      <th>International Movies</th>\n",
       "      <td>0</td>\n",
       "      <td>0</td>\n",
       "      <td>0</td>\n",
       "      <td>9</td>\n",
       "      <td>120</td>\n",
       "      <td>32</td>\n",
       "    </tr>\n",
       "    <tr>\n",
       "      <th>Anime Features</th>\n",
       "      <td>0</td>\n",
       "      <td>0</td>\n",
       "      <td>0</td>\n",
       "      <td>1</td>\n",
       "      <td>2</td>\n",
       "      <td>0</td>\n",
       "    </tr>\n",
       "    <tr>\n",
       "      <th>Independent Movies</th>\n",
       "      <td>0</td>\n",
       "      <td>0</td>\n",
       "      <td>0</td>\n",
       "      <td>1</td>\n",
       "      <td>23</td>\n",
       "      <td>11</td>\n",
       "    </tr>\n",
       "    <tr>\n",
       "      <th>Documentaries</th>\n",
       "      <td>0</td>\n",
       "      <td>0</td>\n",
       "      <td>0</td>\n",
       "      <td>57</td>\n",
       "      <td>2</td>\n",
       "      <td>0</td>\n",
       "    </tr>\n",
       "    <tr>\n",
       "      <th>Music &amp; Musicals</th>\n",
       "      <td>0</td>\n",
       "      <td>0</td>\n",
       "      <td>0</td>\n",
       "      <td>3</td>\n",
       "      <td>13</td>\n",
       "      <td>11</td>\n",
       "    </tr>\n",
       "    <tr>\n",
       "      <th>Action &amp; Adventure</th>\n",
       "      <td>0</td>\n",
       "      <td>0</td>\n",
       "      <td>0</td>\n",
       "      <td>38</td>\n",
       "      <td>0</td>\n",
       "      <td>0</td>\n",
       "    </tr>\n",
       "    <tr>\n",
       "      <th>Thrillers</th>\n",
       "      <td>0</td>\n",
       "      <td>0</td>\n",
       "      <td>0</td>\n",
       "      <td>3</td>\n",
       "      <td>12</td>\n",
       "      <td>20</td>\n",
       "    </tr>\n",
       "    <tr>\n",
       "      <th>Stand-Up Comedy</th>\n",
       "      <td>0</td>\n",
       "      <td>0</td>\n",
       "      <td>0</td>\n",
       "      <td>41</td>\n",
       "      <td>0</td>\n",
       "      <td>0</td>\n",
       "    </tr>\n",
       "    <tr>\n",
       "      <th>Children &amp; Family Movies</th>\n",
       "      <td>0</td>\n",
       "      <td>0</td>\n",
       "      <td>0</td>\n",
       "      <td>76</td>\n",
       "      <td>3</td>\n",
       "      <td>0</td>\n",
       "    </tr>\n",
       "    <tr>\n",
       "      <th>Dramas</th>\n",
       "      <td>0</td>\n",
       "      <td>0</td>\n",
       "      <td>0</td>\n",
       "      <td>89</td>\n",
       "      <td>40</td>\n",
       "      <td>6</td>\n",
       "    </tr>\n",
       "    <tr>\n",
       "      <th>Horror Movies</th>\n",
       "      <td>0</td>\n",
       "      <td>0</td>\n",
       "      <td>0</td>\n",
       "      <td>20</td>\n",
       "      <td>4</td>\n",
       "      <td>0</td>\n",
       "    </tr>\n",
       "    <tr>\n",
       "      <th>Romantic Movies</th>\n",
       "      <td>0</td>\n",
       "      <td>0</td>\n",
       "      <td>0</td>\n",
       "      <td>0</td>\n",
       "      <td>12</td>\n",
       "      <td>33</td>\n",
       "    </tr>\n",
       "    <tr>\n",
       "      <th>LGBTQ Movies</th>\n",
       "      <td>0</td>\n",
       "      <td>0</td>\n",
       "      <td>0</td>\n",
       "      <td>0</td>\n",
       "      <td>11</td>\n",
       "      <td>4</td>\n",
       "    </tr>\n",
       "    <tr>\n",
       "      <th>Sports Movies</th>\n",
       "      <td>0</td>\n",
       "      <td>0</td>\n",
       "      <td>0</td>\n",
       "      <td>0</td>\n",
       "      <td>3</td>\n",
       "      <td>12</td>\n",
       "    </tr>\n",
       "    <tr>\n",
       "      <th>Sci-Fi &amp; Fantasy</th>\n",
       "      <td>0</td>\n",
       "      <td>0</td>\n",
       "      <td>0</td>\n",
       "      <td>0</td>\n",
       "      <td>1</td>\n",
       "      <td>0</td>\n",
       "    </tr>\n",
       "    <tr>\n",
       "      <th>Faith &amp; Spirituality</th>\n",
       "      <td>0</td>\n",
       "      <td>0</td>\n",
       "      <td>0</td>\n",
       "      <td>0</td>\n",
       "      <td>0</td>\n",
       "      <td>2</td>\n",
       "    </tr>\n",
       "  </tbody>\n",
       "</table>\n",
       "</div>"
      ],
      "text/plain": [
       "                          title  type  release_year  genre_1  genre_2  genre_3\n",
       "Comedies                      0     0             0       71       38        1\n",
       "International Movies          0     0             0        9      120       32\n",
       "Anime Features                0     0             0        1        2        0\n",
       "Independent Movies            0     0             0        1       23       11\n",
       "Documentaries                 0     0             0       57        2        0\n",
       "Music & Musicals              0     0             0        3       13       11\n",
       "Action & Adventure            0     0             0       38        0        0\n",
       "Thrillers                     0     0             0        3       12       20\n",
       "Stand-Up Comedy               0     0             0       41        0        0\n",
       "Children & Family Movies      0     0             0       76        3        0\n",
       "Dramas                        0     0             0       89       40        6\n",
       "Horror Movies                 0     0             0       20        4        0\n",
       "Romantic Movies               0     0             0        0       12       33\n",
       "LGBTQ Movies                  0     0             0        0       11        4\n",
       "Sports Movies                 0     0             0        0        3       12\n",
       "Sci-Fi & Fantasy              0     0             0        0        1        0\n",
       "Faith & Spirituality          0     0             0        0        0        2"
      ]
     },
     "execution_count": 75,
     "metadata": {},
     "output_type": "execute_result"
    }
   ],
   "source": [
    "#created a new dataframe from the genre dictionary previously created\n",
    "genre_counts_df = pd.DataFrame(genre_dict).T\n",
    "\n",
    "genre_counts_df"
   ]
  },
  {
   "cell_type": "code",
   "execution_count": 76,
   "metadata": {
    "colab": {
     "base_uri": "https://localhost:8080/",
     "height": 576
    },
    "executionInfo": {
     "elapsed": 724,
     "status": "ok",
     "timestamp": 1620065442461,
     "user": {
      "displayName": "doug krug",
      "photoUrl": "",
      "userId": "11942052013530613265"
     },
     "user_tz": 240
    },
    "id": "UC9vnTwf9f4a",
    "outputId": "832d98d4-6a86-4599-bef3-d83b843e8eac"
   },
   "outputs": [
    {
     "data": {
      "text/html": [
       "<div>\n",
       "<style scoped>\n",
       "    .dataframe tbody tr th:only-of-type {\n",
       "        vertical-align: middle;\n",
       "    }\n",
       "\n",
       "    .dataframe tbody tr th {\n",
       "        vertical-align: top;\n",
       "    }\n",
       "\n",
       "    .dataframe thead th {\n",
       "        text-align: right;\n",
       "    }\n",
       "</style>\n",
       "<table border=\"1\" class=\"dataframe\">\n",
       "  <thead>\n",
       "    <tr style=\"text-align: right;\">\n",
       "      <th></th>\n",
       "      <th>title</th>\n",
       "      <th>type</th>\n",
       "      <th>release_year</th>\n",
       "      <th>genre_1</th>\n",
       "      <th>genre_2</th>\n",
       "      <th>genre_3</th>\n",
       "      <th>Total</th>\n",
       "    </tr>\n",
       "  </thead>\n",
       "  <tbody>\n",
       "    <tr>\n",
       "      <th>Comedies</th>\n",
       "      <td>0</td>\n",
       "      <td>0</td>\n",
       "      <td>0</td>\n",
       "      <td>71</td>\n",
       "      <td>38</td>\n",
       "      <td>1</td>\n",
       "      <td>110</td>\n",
       "    </tr>\n",
       "    <tr>\n",
       "      <th>International Movies</th>\n",
       "      <td>0</td>\n",
       "      <td>0</td>\n",
       "      <td>0</td>\n",
       "      <td>9</td>\n",
       "      <td>120</td>\n",
       "      <td>32</td>\n",
       "      <td>161</td>\n",
       "    </tr>\n",
       "    <tr>\n",
       "      <th>Anime Features</th>\n",
       "      <td>0</td>\n",
       "      <td>0</td>\n",
       "      <td>0</td>\n",
       "      <td>1</td>\n",
       "      <td>2</td>\n",
       "      <td>0</td>\n",
       "      <td>3</td>\n",
       "    </tr>\n",
       "    <tr>\n",
       "      <th>Independent Movies</th>\n",
       "      <td>0</td>\n",
       "      <td>0</td>\n",
       "      <td>0</td>\n",
       "      <td>1</td>\n",
       "      <td>23</td>\n",
       "      <td>11</td>\n",
       "      <td>35</td>\n",
       "    </tr>\n",
       "    <tr>\n",
       "      <th>Documentaries</th>\n",
       "      <td>0</td>\n",
       "      <td>0</td>\n",
       "      <td>0</td>\n",
       "      <td>57</td>\n",
       "      <td>2</td>\n",
       "      <td>0</td>\n",
       "      <td>59</td>\n",
       "    </tr>\n",
       "    <tr>\n",
       "      <th>Music &amp; Musicals</th>\n",
       "      <td>0</td>\n",
       "      <td>0</td>\n",
       "      <td>0</td>\n",
       "      <td>3</td>\n",
       "      <td>13</td>\n",
       "      <td>11</td>\n",
       "      <td>27</td>\n",
       "    </tr>\n",
       "    <tr>\n",
       "      <th>Action &amp; Adventure</th>\n",
       "      <td>0</td>\n",
       "      <td>0</td>\n",
       "      <td>0</td>\n",
       "      <td>38</td>\n",
       "      <td>0</td>\n",
       "      <td>0</td>\n",
       "      <td>38</td>\n",
       "    </tr>\n",
       "    <tr>\n",
       "      <th>Thrillers</th>\n",
       "      <td>0</td>\n",
       "      <td>0</td>\n",
       "      <td>0</td>\n",
       "      <td>3</td>\n",
       "      <td>12</td>\n",
       "      <td>20</td>\n",
       "      <td>35</td>\n",
       "    </tr>\n",
       "    <tr>\n",
       "      <th>Stand-Up Comedy</th>\n",
       "      <td>0</td>\n",
       "      <td>0</td>\n",
       "      <td>0</td>\n",
       "      <td>41</td>\n",
       "      <td>0</td>\n",
       "      <td>0</td>\n",
       "      <td>41</td>\n",
       "    </tr>\n",
       "    <tr>\n",
       "      <th>Children &amp; Family Movies</th>\n",
       "      <td>0</td>\n",
       "      <td>0</td>\n",
       "      <td>0</td>\n",
       "      <td>76</td>\n",
       "      <td>3</td>\n",
       "      <td>0</td>\n",
       "      <td>79</td>\n",
       "    </tr>\n",
       "    <tr>\n",
       "      <th>Dramas</th>\n",
       "      <td>0</td>\n",
       "      <td>0</td>\n",
       "      <td>0</td>\n",
       "      <td>89</td>\n",
       "      <td>40</td>\n",
       "      <td>6</td>\n",
       "      <td>135</td>\n",
       "    </tr>\n",
       "    <tr>\n",
       "      <th>Horror Movies</th>\n",
       "      <td>0</td>\n",
       "      <td>0</td>\n",
       "      <td>0</td>\n",
       "      <td>20</td>\n",
       "      <td>4</td>\n",
       "      <td>0</td>\n",
       "      <td>24</td>\n",
       "    </tr>\n",
       "    <tr>\n",
       "      <th>Romantic Movies</th>\n",
       "      <td>0</td>\n",
       "      <td>0</td>\n",
       "      <td>0</td>\n",
       "      <td>0</td>\n",
       "      <td>12</td>\n",
       "      <td>33</td>\n",
       "      <td>45</td>\n",
       "    </tr>\n",
       "    <tr>\n",
       "      <th>LGBTQ Movies</th>\n",
       "      <td>0</td>\n",
       "      <td>0</td>\n",
       "      <td>0</td>\n",
       "      <td>0</td>\n",
       "      <td>11</td>\n",
       "      <td>4</td>\n",
       "      <td>15</td>\n",
       "    </tr>\n",
       "    <tr>\n",
       "      <th>Sports Movies</th>\n",
       "      <td>0</td>\n",
       "      <td>0</td>\n",
       "      <td>0</td>\n",
       "      <td>0</td>\n",
       "      <td>3</td>\n",
       "      <td>12</td>\n",
       "      <td>15</td>\n",
       "    </tr>\n",
       "    <tr>\n",
       "      <th>Sci-Fi &amp; Fantasy</th>\n",
       "      <td>0</td>\n",
       "      <td>0</td>\n",
       "      <td>0</td>\n",
       "      <td>0</td>\n",
       "      <td>1</td>\n",
       "      <td>0</td>\n",
       "      <td>1</td>\n",
       "    </tr>\n",
       "    <tr>\n",
       "      <th>Faith &amp; Spirituality</th>\n",
       "      <td>0</td>\n",
       "      <td>0</td>\n",
       "      <td>0</td>\n",
       "      <td>0</td>\n",
       "      <td>0</td>\n",
       "      <td>2</td>\n",
       "      <td>2</td>\n",
       "    </tr>\n",
       "  </tbody>\n",
       "</table>\n",
       "</div>"
      ],
      "text/plain": [
       "                          title  type  release_year  genre_1  genre_2  \\\n",
       "Comedies                      0     0             0       71       38   \n",
       "International Movies          0     0             0        9      120   \n",
       "Anime Features                0     0             0        1        2   \n",
       "Independent Movies            0     0             0        1       23   \n",
       "Documentaries                 0     0             0       57        2   \n",
       "Music & Musicals              0     0             0        3       13   \n",
       "Action & Adventure            0     0             0       38        0   \n",
       "Thrillers                     0     0             0        3       12   \n",
       "Stand-Up Comedy               0     0             0       41        0   \n",
       "Children & Family Movies      0     0             0       76        3   \n",
       "Dramas                        0     0             0       89       40   \n",
       "Horror Movies                 0     0             0       20        4   \n",
       "Romantic Movies               0     0             0        0       12   \n",
       "LGBTQ Movies                  0     0             0        0       11   \n",
       "Sports Movies                 0     0             0        0        3   \n",
       "Sci-Fi & Fantasy              0     0             0        0        1   \n",
       "Faith & Spirituality          0     0             0        0        0   \n",
       "\n",
       "                          genre_3  Total  \n",
       "Comedies                        1    110  \n",
       "International Movies           32    161  \n",
       "Anime Features                  0      3  \n",
       "Independent Movies             11     35  \n",
       "Documentaries                   0     59  \n",
       "Music & Musicals               11     27  \n",
       "Action & Adventure              0     38  \n",
       "Thrillers                      20     35  \n",
       "Stand-Up Comedy                 0     41  \n",
       "Children & Family Movies        0     79  \n",
       "Dramas                          6    135  \n",
       "Horror Movies                   0     24  \n",
       "Romantic Movies                33     45  \n",
       "LGBTQ Movies                    4     15  \n",
       "Sports Movies                  12     15  \n",
       "Sci-Fi & Fantasy                0      1  \n",
       "Faith & Spirituality            2      2  "
      ]
     },
     "execution_count": 76,
     "metadata": {},
     "output_type": "execute_result"
    }
   ],
   "source": [
    "#Added total column and got the sum of each genre across the three genre count columns\n",
    "genre_counts_df.loc[:,'Total'] = genre_counts_df.sum(axis=1)\n",
    "genre_counts_df"
   ]
  },
  {
   "cell_type": "code",
   "execution_count": 77,
   "metadata": {
    "colab": {
     "base_uri": "https://localhost:8080/"
    },
    "executionInfo": {
     "elapsed": 566,
     "status": "ok",
     "timestamp": 1620065769969,
     "user": {
      "displayName": "doug krug",
      "photoUrl": "",
      "userId": "11942052013530613265"
     },
     "user_tz": 240
    },
    "id": "0KitN0GYb-Ah",
    "outputId": "0c5d244f-aae9-4069-9f7c-897201115815"
   },
   "outputs": [],
   "source": [
    "#Sort total values in decending order\n",
    "genre_counts_df = genre_counts_df.sort_values('Total', ascending=False)\n",
    "#Set the axes based on the needed data from the dataframe\n",
    "x_axis = genre_counts_df.index\n",
    "y_axis = genre_counts_df['Total']"
   ]
  },
  {
   "cell_type": "code",
   "execution_count": 78,
   "metadata": {
    "colab": {
     "base_uri": "https://localhost:8080/",
     "height": 411
    },
    "executionInfo": {
     "elapsed": 624,
     "status": "ok",
     "timestamp": 1620066061513,
     "user": {
      "displayName": "doug krug",
      "photoUrl": "",
      "userId": "11942052013530613265"
     },
     "user_tz": 240
    },
    "id": "l0fSkCaycom4",
    "outputId": "7024df0c-0615-45d3-b1a1-053c634876f7"
   },
   "outputs": [
    {
     "data": {
      "image/png": "[encoded data removed]",
      "text/plain": [
       "<Figure size 432x288 with 1 Axes>"
      ]
     },
     "metadata": {
      "needs_background": "light"
     },
     "output_type": "display_data"
    }
   ],
   "source": [
    "#Ploted a bar chart to show the results and determine which genre had the most movies released in 2020\n",
    "plt.barh(x_axis, y_axis, color='r')\n",
    "\n",
    "plt.title(\"Number of Movies Released By Genre in 2020\", fontsize=20)\n",
    "plt.xlabel(\"Genres\", fontsize=16)\n",
    "plt.ylabel(\"Number of Movies\", fontsize=16)\n",
    "#plt.figure(figsize=(10,12))\n",
    "#plt.tight_layout(pad=3.0)\n",
    "plt.savefig(\"Images/bar_genre_release.png\")\n",
    "plt.show()"
   ]
  },
  {
   "cell_type": "markdown",
   "metadata": {},
   "source": [
    "Null Hypothesis: There is no statistical significance in the number of movies released per genere in the year 2020"
   ]
  },
  {
   "cell_type": "code",
   "execution_count": 80,
   "metadata": {},
   "outputs": [
    {
     "data": {
      "text/plain": [
       "[161, 135, 110, 79, 59, 45, 41, 38, 35, 35, 27, 24, 15, 15, 3, 2, 1]"
      ]
     },
     "execution_count": 80,
     "metadata": {},
     "output_type": "execute_result"
    }
   ],
   "source": [
    "genre_counts_list = genre_counts_df['Total'].tolist()\n",
    "genre_counts_list"
   ]
  },
  {
   "cell_type": "code",
   "execution_count": 85,
   "metadata": {},
   "outputs": [],
   "source": [
    "observed = pd.Series(genre_counts_list, index=[genre_counts_df.index])"
   ]
  },
  {
   "cell_type": "code",
   "execution_count": 86,
   "metadata": {},
   "outputs": [],
   "source": [
    "genre_df = pd.DataFrame([observed]).T"
   ]
  },
  {
   "cell_type": "code",
   "execution_count": 87,
   "metadata": {},
   "outputs": [],
   "source": [
    "genre_df[1] = 49"
   ]
  },
  {
   "cell_type": "code",
   "execution_count": 88,
   "metadata": {},
   "outputs": [],
   "source": [
    "genre_df.columns = [\"observed\", \"expected\"]"
   ]
  },
  {
   "cell_type": "code",
   "execution_count": 89,
   "metadata": {},
   "outputs": [
    {
     "data": {
      "text/html": [
       "<div>\n",
       "<style scoped>\n",
       "    .dataframe tbody tr th:only-of-type {\n",
       "        vertical-align: middle;\n",
       "    }\n",
       "\n",
       "    .dataframe tbody tr th {\n",
       "        vertical-align: top;\n",
       "    }\n",
       "\n",
       "    .dataframe thead th {\n",
       "        text-align: right;\n",
       "    }\n",
       "</style>\n",
       "<table border=\"1\" class=\"dataframe\">\n",
       "  <thead>\n",
       "    <tr style=\"text-align: right;\">\n",
       "      <th></th>\n",
       "      <th>observed</th>\n",
       "      <th>expected</th>\n",
       "    </tr>\n",
       "  </thead>\n",
       "  <tbody>\n",
       "    <tr>\n",
       "      <th>International Movies</th>\n",
       "      <td>161</td>\n",
       "      <td>49</td>\n",
       "    </tr>\n",
       "    <tr>\n",
       "      <th>Dramas</th>\n",
       "      <td>135</td>\n",
       "      <td>49</td>\n",
       "    </tr>\n",
       "    <tr>\n",
       "      <th>Comedies</th>\n",
       "      <td>110</td>\n",
       "      <td>49</td>\n",
       "    </tr>\n",
       "    <tr>\n",
       "      <th>Children &amp; Family Movies</th>\n",
       "      <td>79</td>\n",
       "      <td>49</td>\n",
       "    </tr>\n",
       "    <tr>\n",
       "      <th>Documentaries</th>\n",
       "      <td>59</td>\n",
       "      <td>49</td>\n",
       "    </tr>\n",
       "    <tr>\n",
       "      <th>Romantic Movies</th>\n",
       "      <td>45</td>\n",
       "      <td>49</td>\n",
       "    </tr>\n",
       "    <tr>\n",
       "      <th>Stand-Up Comedy</th>\n",
       "      <td>41</td>\n",
       "      <td>49</td>\n",
       "    </tr>\n",
       "    <tr>\n",
       "      <th>Action &amp; Adventure</th>\n",
       "      <td>38</td>\n",
       "      <td>49</td>\n",
       "    </tr>\n",
       "    <tr>\n",
       "      <th>Thrillers</th>\n",
       "      <td>35</td>\n",
       "      <td>49</td>\n",
       "    </tr>\n",
       "    <tr>\n",
       "      <th>Independent Movies</th>\n",
       "      <td>35</td>\n",
       "      <td>49</td>\n",
       "    </tr>\n",
       "    <tr>\n",
       "      <th>Music &amp; Musicals</th>\n",
       "      <td>27</td>\n",
       "      <td>49</td>\n",
       "    </tr>\n",
       "    <tr>\n",
       "      <th>Horror Movies</th>\n",
       "      <td>24</td>\n",
       "      <td>49</td>\n",
       "    </tr>\n",
       "    <tr>\n",
       "      <th>LGBTQ Movies</th>\n",
       "      <td>15</td>\n",
       "      <td>49</td>\n",
       "    </tr>\n",
       "    <tr>\n",
       "      <th>Sports Movies</th>\n",
       "      <td>15</td>\n",
       "      <td>49</td>\n",
       "    </tr>\n",
       "    <tr>\n",
       "      <th>Anime Features</th>\n",
       "      <td>3</td>\n",
       "      <td>49</td>\n",
       "    </tr>\n",
       "    <tr>\n",
       "      <th>Faith &amp; Spirituality</th>\n",
       "      <td>2</td>\n",
       "      <td>49</td>\n",
       "    </tr>\n",
       "    <tr>\n",
       "      <th>Sci-Fi &amp; Fantasy</th>\n",
       "      <td>1</td>\n",
       "      <td>49</td>\n",
       "    </tr>\n",
       "  </tbody>\n",
       "</table>\n",
       "</div>"
      ],
      "text/plain": [
       "                          observed  expected\n",
       "International Movies           161        49\n",
       "Dramas                         135        49\n",
       "Comedies                       110        49\n",
       "Children & Family Movies        79        49\n",
       "Documentaries                   59        49\n",
       "Romantic Movies                 45        49\n",
       "Stand-Up Comedy                 41        49\n",
       "Action & Adventure              38        49\n",
       "Thrillers                       35        49\n",
       "Independent Movies              35        49\n",
       "Music & Musicals                27        49\n",
       "Horror Movies                   24        49\n",
       "LGBTQ Movies                    15        49\n",
       "Sports Movies                   15        49\n",
       "Anime Features                   3        49\n",
       "Faith & Spirituality             2        49\n",
       "Sci-Fi & Fantasy                 1        49"
      ]
     },
     "execution_count": 89,
     "metadata": {},
     "output_type": "execute_result"
    }
   ],
   "source": [
    "genre_df"
   ]
  },
  {
   "cell_type": "code",
   "execution_count": 91,
   "metadata": {},
   "outputs": [],
   "source": [
    "critical_value = stats.chi2.ppf(q=0.95, df = 16)"
   ]
  },
  {
   "cell_type": "code",
   "execution_count": 92,
   "metadata": {},
   "outputs": [
    {
     "data": {
      "text/plain": [
       "26.29622760486423"
      ]
     },
     "execution_count": 92,
     "metadata": {},
     "output_type": "execute_result"
    }
   ],
   "source": [
    "critical_value"
   ]
  },
  {
   "cell_type": "code",
   "execution_count": 93,
   "metadata": {},
   "outputs": [
    {
     "data": {
      "text/plain": [
       "Power_divergenceResult(statistic=720.4897959183673, pvalue=5.6218691783211365e-143)"
      ]
     },
     "execution_count": 93,
     "metadata": {},
     "output_type": "execute_result"
    }
   ],
   "source": [
    "stats.chisquare(genre_df['observed'], genre_df['expected'])"
   ]
  },
  {
   "cell_type": "markdown",
   "metadata": {},
   "source": [
    "Conclusion: Since the chi square value of 720.5 exceeds the critical value of 26.3, we concluded that the difference seen in the number of movies released per genre is statistically significant."
   ]
  }
 ],
 "metadata": {
  "colab": {
   "authorship_tag": "ABX9TyMEMMRQSPrZqTLeRBd8Sh+y",
   "collapsed_sections": [],
   "name": "Question_2.ipynb",
   "provenance": []
  },
  "kernelspec": {
   "display_name": "Python 3",
   "language": "python",
   "name": "python3"
  },
  "language_info": {
   "codemirror_mode": {
    "name": "ipython",
    "version": 3
   },
   "file_extension": ".py",
   "mimetype": "text/x-python",
   "name": "python",
   "nbconvert_exporter": "python",
   "pygments_lexer": "ipython3",
   "version": "3.8.5"
  }
 },
 "nbformat": 4,
 "nbformat_minor": 1
}
