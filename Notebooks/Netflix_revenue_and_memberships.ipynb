{
  "nbformat": 4,
  "nbformat_minor": 0,
  "metadata": {
    "colab": {
      "name": "Netflix_revenue_and_memberships.ipynb",
      "provenance": [],
      "collapsed_sections": [],
      "toc_visible": true
    },
    "kernelspec": {
      "name": "python3",
      "display_name": "Python 3"
    },
    "language_info": {
      "name": "python"
    }
  },
  "cells": [
    {
      "cell_type": "code",
      "metadata": {
        "colab": {
          "base_uri": "https://localhost:8080/"
        },
        "id": "S0qwt-H7FLEg",
        "outputId": "9bd9cff5-7e16-483d-9ff7-89b18264b324"
      },
      "source": [
        "from google.colab import drive\n",
        "drive.mount('/content/drive')"
      ],
      "execution_count": 189,
      "outputs": [
        {
          "output_type": "stream",
          "text": [
            "Drive already mounted at /content/drive; to attempt to forcibly remount, call drive.mount(\"/content/drive\", force_remount=True).\n"
          ],
          "name": "stdout"
        }
      ]
    },
    {
      "cell_type": "code",
      "metadata": {
        "id": "ckd1pPbYFNs4"
      },
      "source": [
        "path= \"/content/drive/MyDrive/netflix_titles.csv\""
      ],
      "execution_count": 190,
      "outputs": []
    },
    {
      "cell_type": "code",
      "metadata": {
        "id": "hJUc1slQCAyn"
      },
      "source": [
        "%matplotlib inline\n",
        "import pandas as pd\n",
        "import scipy.stats as stats\n",
        "import warnings\n",
        "import matplotlib\n",
        "import matplotlib.pyplot as plt\n",
        "import numpy as np"
      ],
      "execution_count": 191,
      "outputs": []
    },
    {
      "cell_type": "code",
      "metadata": {
        "id": "748tklMJCJcz"
      },
      "source": [
        "netflix = pd.read_csv(path)"
      ],
      "execution_count": 192,
      "outputs": []
    },
    {
      "cell_type": "markdown",
      "metadata": {
        "id": "RHnuhrOCFXPE"
      },
      "source": [
        "# How many movies were on netflix in 2020 compared to tv shows?"
      ]
    },
    {
      "cell_type": "code",
      "metadata": {
        "id": "K4zEwWwaRLq_"
      },
      "source": [
        "#Creating a new datafram for 2020 netflix titles.\n",
        "netflix_2020 = netflix.loc[netflix['release_year'] == 2020]"
      ],
      "execution_count": 193,
      "outputs": []
    },
    {
      "cell_type": "code",
      "metadata": {
        "colab": {
          "base_uri": "https://localhost:8080/"
        },
        "id": "Jc_opOlrFNz1",
        "outputId": "f942ef7d-fdba-42a7-8304-c452dab4fb5e"
      },
      "source": [
        "# Display an overview of the Movie and TV count\n",
        "netflix_2020['type'].value_counts()"
      ],
      "execution_count": 194,
      "outputs": [
        {
          "output_type": "execute_result",
          "data": {
            "text/plain": [
              "TV Show    457\n",
              "Movie      411\n",
              "Name: type, dtype: int64"
            ]
          },
          "metadata": {
            "tags": []
          },
          "execution_count": 194
        }
      ]
    },
    {
      "cell_type": "code",
      "metadata": {
        "id": "5mbuQtpaFN2F"
      },
      "source": [
        "pies = [\"Movies\", \"TV Shows\"]\n",
        "pie_votes = netflix_2020['type'].value_counts()\n",
        "colors = [\"red\",\"blue\"]\n",
        "explode = (0.1, 0)"
      ],
      "execution_count": 195,
      "outputs": []
    },
    {
      "cell_type": "code",
      "metadata": {
        "colab": {
          "base_uri": "https://localhost:8080/",
          "height": 350
        },
        "id": "G59Xz3W7FN4Y",
        "outputId": "2be63b63-a6b8-4311-94a8-0d2199124377"
      },
      "source": [
        "plt.pie(pie_votes, explode=explode,labels=pies, colors=colors,\n",
        "        autopct=\"%1.1f%%\", shadow=True, startangle=140)"
      ],
      "execution_count": 196,
      "outputs": [
        {
          "output_type": "execute_result",
          "data": {
            "text/plain": [
              "([<matplotlib.patches.Wedge at 0x7f18e2af0790>,\n",
              "  <matplotlib.patches.Wedge at 0x7f18e2bcde10>],\n",
              " [Text(-0.6922391277661718, -0.9802066057671363, 'Movies'),\n",
              "  Text(0.6345524496598861, 0.8985227813643001, 'TV Shows')],\n",
              " [Text(-0.4038061578636002, -0.5717871866974961, '52.6%'),\n",
              "  Text(0.3461195179963015, 0.4901033352896182, '47.4%')])"
            ]
          },
          "metadata": {
            "tags": []
          },
          "execution_count": 196
        },
        {
          "output_type": "display_data",
          "data": {
            "image/png": "[encoded data removed]",
            "text/plain": [
              "<Figure size 432x288 with 1 Axes>"
            ]
          },
          "metadata": {
            "tags": []
          }
        }
      ]
    },
    {
      "cell_type": "code",
      "metadata": {
        "colab": {
          "base_uri": "https://localhost:8080/",
          "height": 314
        },
        "id": "9FcJErg9FN6c",
        "outputId": "8590f331-529d-4ded-ef0f-0a65f7181fbd"
      },
      "source": [
        "#Creating a bar graph to show tv shows vs movies available\n",
        "\n",
        "show = [\"movies\",\"TV Shows\"]\n",
        "count = netflix_2020['type'].value_counts()\n",
        "x_axis = np.arange(len(count))\n",
        "\n",
        "#Create bar graph, and add labels.\n",
        "plt.bar(x_axis, count, color=['r','b'], align='center')\n",
        "tick_locations = [value for value in x_axis]\n",
        "plt.xticks(tick_locations, show)\n",
        "for index,data in enumerate(count):\n",
        "    plt.text(x=index , y =0 , s=f\"{data}\" , fontdict=dict(fontsize=20))\n",
        "plt.title(\"Number of movies vs number of tv shows available\")\n",
        "plt.xlabel(\"type of show\")\n",
        "plt.ylabel(\"number avilable\")\n",
        "\n",
        "\n",
        "plt.tight_layout()\n",
        "\n",
        "plt.show()\n",
        "plt.savefig(\"/content/drive/MyDrive/Images/bar_movie_tvshow.png\")"
      ],
      "execution_count": 197,
      "outputs": [
        {
          "output_type": "display_data",
          "data": {
            "image/png": "[encoded data removed]",
            "text/plain": [
              "<Figure size 432x288 with 1 Axes>"
            ]
          },
          "metadata": {
            "tags": [],
            "needs_background": "light"
          }
        },
        {
          "output_type": "display_data",
          "data": {
            "text/plain": [
              "<Figure size 432x288 with 0 Axes>"
            ]
          },
          "metadata": {
            "tags": []
          }
        }
      ]
    },
    {
      "cell_type": "markdown",
      "metadata": {
        "id": "0Jc7fM1DFs6o"
      },
      "source": [
        "# Comparing the 2019 (pre-pandemic) quarterly revenue and memberships to 2020 (pandemic time frame)."
      ]
    },
    {
      "cell_type": "code",
      "metadata": {
        "id": "tGuZObbbSUir"
      },
      "source": [
        "#Reading in the financial data excel file\n",
        "q1_21_financials = pd.read_excel(\"/content/drive/MyDrive/Q1_2021_Financials.xlsx\",sheet_name=['Income Statement','Balance Sheet','Cashflow','Regional Information'])"
      ],
      "execution_count": 198,
      "outputs": []
    },
    {
      "cell_type": "code",
      "metadata": {
        "id": "udbAJTdlahTq"
      },
      "source": [
        "income_df = pd.DataFrame(q1_21_financials['Income Statement'])"
      ],
      "execution_count": 199,
      "outputs": []
    },
    {
      "cell_type": "code",
      "metadata": {
        "id": "21FT42i6dtS9"
      },
      "source": [
        "income_df.columns = income_df.iloc[4]"
      ],
      "execution_count": 200,
      "outputs": []
    },
    {
      "cell_type": "code",
      "metadata": {
        "id": "bPORsWhBehL_"
      },
      "source": [
        "income_df.columns = ['NaN1','NaN2','NaN3','NaN4','NaN5','March 31, 2019', 'June 30, 2019', 'September 30, 2019', 'December 31, 2019','December 31, 2019', 'March 31, 2020', 'June 30, 2020', 'September 30, 2020', 'December 31, 2020','December 31, 2020','March 31, 2021']"
      ],
      "execution_count": 201,
      "outputs": []
    },
    {
      "cell_type": "code",
      "metadata": {
        "id": "z5sL7H92ksUk"
      },
      "source": [
        "#Dropping unnessesary rows and columns \n",
        "income_df = income_df.drop(['NaN3', 'NaN4','NaN5'], axis=1)\n",
        "income_df = income_df.drop([0,1,2,3,4,5,6])\n",
        "\n",
        "#Resetting index after dropping rows\n",
        "income_df = income_df.reset_index()"
      ],
      "execution_count": 202,
      "outputs": []
    },
    {
      "cell_type": "code",
      "metadata": {
        "id": "fvLmQ-uCHQU1"
      },
      "source": [
        "rev_data_list = income_df.values.tolist()"
      ],
      "execution_count": 203,
      "outputs": []
    },
    {
      "cell_type": "code",
      "metadata": {
        "colab": {
          "base_uri": "https://localhost:8080/"
        },
        "id": "81sszK4vF8pD",
        "outputId": "22b0be6b-e3c2-4f83-a5ed-591d77af80b0"
      },
      "source": [
        "#Creating a revenue list\n",
        "revenue_list = rev_data_list[0]\n",
        "revenue_list"
      ],
      "execution_count": 204,
      "outputs": [
        {
          "output_type": "execute_result",
          "data": {
            "text/plain": [
              "[7,\n",
              " 'Revenues',\n",
              " nan,\n",
              " 4520992,\n",
              " 4923116,\n",
              " 5244905,\n",
              " 5467434,\n",
              " 20156447,\n",
              " 5767691,\n",
              " 6148286,\n",
              " 6435637,\n",
              " 6644442,\n",
              " 24996056,\n",
              " 7163282]"
            ]
          },
          "metadata": {
            "tags": []
          },
          "execution_count": 204
        }
      ]
    },
    {
      "cell_type": "code",
      "metadata": {
        "colab": {
          "base_uri": "https://localhost:8080/"
        },
        "id": "9_bOmmkJF8rt",
        "outputId": "79816369-f8f9-4512-dedf-9d302fb671a3"
      },
      "source": [
        "#Creating two indices lists to grab the appropraite revenue values for 2019 and 2020 from the revenue list created in the previous cell\n",
        "indices1 = [3,4,5,6]\n",
        "indices2 = [8,9,10,11]\n",
        "\n",
        "revenue_19 = [revenue_list[index] for index in indices1]\n",
        "revenue_20 = [revenue_list[index] for index in indices2]\n",
        "\n",
        "print(revenue_19)\n",
        "print(revenue_20)"
      ],
      "execution_count": 205,
      "outputs": [
        {
          "output_type": "stream",
          "text": [
            "[4520992, 4923116, 5244905, 5467434]\n",
            "[5767691, 6148286, 6435637, 6644442]\n"
          ],
          "name": "stdout"
        }
      ]
    },
    {
      "cell_type": "code",
      "metadata": {
        "colab": {
          "base_uri": "https://localhost:8080/",
          "height": 314
        },
        "id": "HY0_Ar_CGWLI",
        "outputId": "35267eef-c675-43f6-89ab-7e12134db209"
      },
      "source": [
        "#creating a quarters list for x axis.\n",
        "quarters = ['Q1', 'Q2', 'Q3', 'Q4']\n",
        "\n",
        "\n",
        "x = np.arange(len(quarters))\n",
        "width = 0.35 \n",
        "\n",
        "#Creating subplots for double bar charts.\n",
        "fig, ax = plt.subplots()\n",
        "rects1 = ax.bar(x - width/2, revenue_19, width, label='2019')\n",
        "rects2 = ax.bar(x + width/2, revenue_20, width, label='2020')\n",
        "\n",
        "#Naming x and y axis and creating ticks.\n",
        "ax.set_ylabel('Revenue (in millions')\n",
        "ax.set_title('Revenue by quarter and year')\n",
        "ax.set_xticks(x)\n",
        "ax.set_xticklabels(quarters)\n",
        "ax.legend()\n",
        "\n",
        "fig.tight_layout()\n",
        "\n",
        "plt.show()\n",
        "plt.savefig(\"/content/drive/MyDrive/Images/bar_revenue_quarter_year.png\")"
      ],
      "execution_count": 206,
      "outputs": [
        {
          "output_type": "display_data",
          "data": {
            "image/png": "[encoded data removed]",
            "text/plain": [
              "<Figure size 432x288 with 1 Axes>"
            ]
          },
          "metadata": {
            "tags": [],
            "needs_background": "light"
          }
        },
        {
          "output_type": "display_data",
          "data": {
            "text/plain": [
              "<Figure size 432x288 with 0 Axes>"
            ]
          },
          "metadata": {
            "tags": []
          }
        }
      ]
    },
    {
      "cell_type": "code",
      "metadata": {
        "colab": {
          "base_uri": "https://localhost:8080/",
          "height": 312
        },
        "id": "OjOvmwHvGWNx",
        "outputId": "e16ddf70-f90d-4e9c-a894-e997a1c0a0e4"
      },
      "source": [
        "#Creating lines for 2019 and 2020 revenue\n",
        "rev_2019, = plt.plot(quarters, revenue_19, color=\"red\", label=\" 2019 Revenue\")\n",
        "rev_2020, = plt.plot(quarters, revenue_20, color=\"blue\", label=\"2020 Revenue\")\n",
        "#naming title and x and y axis.\n",
        "plt.title(\"Quarterly revenue for 2019 and 2020\")\n",
        "plt.xlabel(\"Quarter\")\n",
        "plt.ylabel(\"Revenue (in millions)\")\n",
        "\n",
        "#Creating graph legend\n",
        "plt.legend(handles=[rev_2020, rev_2019], loc=\"best\")\n",
        "#Adding grid\n",
        "plt.grid()\n",
        "#plot line graph\n",
        "plt.show()\n",
        "plt.savefig(\"/content/drive/MyDrive/Images/line_revenue_quarter_year.png\")"
      ],
      "execution_count": 207,
      "outputs": [
        {
          "output_type": "display_data",
          "data": {
            "image/png": "[encoded data removed]",
            "text/plain": [
              "<Figure size 432x288 with 1 Axes>"
            ]
          },
          "metadata": {
            "tags": [],
            "needs_background": "light"
          }
        },
        {
          "output_type": "display_data",
          "data": {
            "text/plain": [
              "<Figure size 432x288 with 0 Axes>"
            ]
          },
          "metadata": {
            "tags": []
          }
        }
      ]
    },
    {
      "cell_type": "code",
      "metadata": {
        "id": "NawjME6vGYso"
      },
      "source": [
        "#Creating a new dataframe for the membership data for 2019 and 2020\n",
        "subscriber_df = pd.DataFrame(q1_21_financials['Regional Information'])\n",
        "\n",
        "subscriber_df.columns = subscriber_df.iloc[4]"
      ],
      "execution_count": 208,
      "outputs": []
    },
    {
      "cell_type": "code",
      "metadata": {
        "id": "slnt--H1GYzI"
      },
      "source": [
        "#Renaming columns to contain quarter and year\n",
        "subscriber_df.columns = ['Area','Membership totals','Nan1','Nan2','Nan3','Nan4','March 31, 2019', 'June 30, 2019', 'September 30, 2019', 'December 31, 2019','December 31, 2019', 'March 31, 2020', 'June 30, 2020', 'September 30, 2020', 'December 31, 2020','December 31, 2020','March 31, 2021']"
      ],
      "execution_count": 209,
      "outputs": []
    },
    {
      "cell_type": "code",
      "metadata": {
        "id": "l45nl4uiLIVK"
      },
      "source": [
        "#Dropping unnessesary columns and rows\n",
        "subscriber_df = subscriber_df.drop(['Nan1', 'Nan2','Nan3','Nan4'], axis=1)\n",
        "subscriber_df = subscriber_df.drop([0,1,2,3,4,5,6])\n",
        "\n",
        "#Resetting the index after dropping rows.\n",
        "subscriber_df = subscriber_df.reset_index()"
      ],
      "execution_count": 210,
      "outputs": []
    },
    {
      "cell_type": "code",
      "metadata": {
        "id": "f4Kl-TT6GWRN"
      },
      "source": [
        "#creating dataframe for just US data\n",
        "us_subscriber_df = subscriber_df.head(8)"
      ],
      "execution_count": 211,
      "outputs": []
    },
    {
      "cell_type": "code",
      "metadata": {
        "id": "1WShLmvvGnK8"
      },
      "source": [
        "#Appending the memebership data to a list for graphing\n",
        "subscriber_list = us_subscriber_df.values.tolist()"
      ],
      "execution_count": 212,
      "outputs": []
    },
    {
      "cell_type": "code",
      "metadata": {
        "colab": {
          "base_uri": "https://localhost:8080/"
        },
        "id": "28fnZYVhGnNn",
        "outputId": "0a10155a-f936-49c8-e541-d58fe51a10b6"
      },
      "source": [
        "#Storing the total paid memberships for 2019 and 2020 in a list\n",
        "paid_memberships = subscriber_list[3]\n",
        "paid_memberships"
      ],
      "execution_count": 213,
      "outputs": [
        {
          "output_type": "execute_result",
          "data": {
            "text/plain": [
              "[10,\n",
              " nan,\n",
              " 'Paid memberships at end of period',\n",
              " 66633,\n",
              " 66501,\n",
              " 67114,\n",
              " 67662,\n",
              " 67662,\n",
              " 69969,\n",
              " 72904,\n",
              " 73081,\n",
              " 73936,\n",
              " 73936,\n",
              " 74384]"
            ]
          },
          "metadata": {
            "tags": []
          },
          "execution_count": 213
        }
      ]
    },
    {
      "cell_type": "code",
      "metadata": {
        "colab": {
          "base_uri": "https://localhost:8080/"
        },
        "id": "rwxFTjUpGqlx",
        "outputId": "feae8193-c887-4982-daa1-2263f988d834"
      },
      "source": [
        "#Created two indices lists to grab the correct values for 2019 and 2020 total quarterly memeberships\n",
        "indices3 = [3,4,5,6]\n",
        "indices4 = [8,9,10,11]\n",
        "\n",
        "memberships_19 = [paid_memberships[index] for index in indices3]\n",
        "memberships_20 = [paid_memberships[index] for index in indices4]\n",
        "\n",
        "print(memberships_19)\n",
        "print(memberships_20)"
      ],
      "execution_count": 214,
      "outputs": [
        {
          "output_type": "stream",
          "text": [
            "[66633, 66501, 67114, 67662]\n",
            "[69969, 72904, 73081, 73936]\n"
          ],
          "name": "stdout"
        }
      ]
    },
    {
      "cell_type": "code",
      "metadata": {
        "id": "oVuE5_ELGqoY"
      },
      "source": [
        "#Converting list values to an int for graphing\n",
        "memberships_19 = list(map(int, memberships_19))\n",
        "memberships_20 = list(map(int,memberships_20))"
      ],
      "execution_count": 215,
      "outputs": []
    },
    {
      "cell_type": "code",
      "metadata": {
        "colab": {
          "base_uri": "https://localhost:8080/",
          "height": 314
        },
        "id": "ZLplryjgGs_t",
        "outputId": "2440e4f9-5050-4e09-dd15-13e5c715086e"
      },
      "source": [
        "x = np.arange(len(quarters))\n",
        "width = 0.35 \n",
        "\n",
        "#Creating subplots for double bar charts.\n",
        "fig, ax = plt.subplots()\n",
        "rects1 = ax.bar(x - width/2, memberships_19, width, label='2019')\n",
        "rects2 = ax.bar(x + width/2, memberships_20, width, label='2020')\n",
        "\n",
        "#Naming x and y axis and creating ticks.\n",
        "ax.set_ylabel('Memberships')\n",
        "ax.set_title('Memberships by quarter and year')\n",
        "ax.set_xticks(x)\n",
        "ax.set_xticklabels(quarters)\n",
        "\n",
        "ax.legend()\n",
        "\n",
        "fig.tight_layout()\n",
        "\n",
        "plt.show()\n",
        "plt.savefig(\"/content/drive/MyDrive/Images/bar_memberships_quarter_year.png\")"
      ],
      "execution_count": 216,
      "outputs": [
        {
          "output_type": "display_data",
          "data": {
            "image/png": "[encoded data removed]",
            "text/plain": [
              "<Figure size 432x288 with 1 Axes>"
            ]
          },
          "metadata": {
            "tags": [],
            "needs_background": "light"
          }
        },
        {
          "output_type": "display_data",
          "data": {
            "text/plain": [
              "<Figure size 432x288 with 0 Axes>"
            ]
          },
          "metadata": {
            "tags": []
          }
        }
      ]
    },
    {
      "cell_type": "code",
      "metadata": {
        "colab": {
          "base_uri": "https://localhost:8080/",
          "height": 312
        },
        "id": "Og71sRDNGtCX",
        "outputId": "3288b673-adce-4f54-be0e-ef3f42f444d4"
      },
      "source": [
        "#Creating lines for 2019 and 2020 revenue\n",
        "mems_2019, = plt.plot(quarters, memberships_19, color=\"red\", label=\" 2019 Memberships\")\n",
        "mems_2020, = plt.plot(quarters, memberships_20, color=\"blue\", label=\"2020 Memberships\")\n",
        "#naming title and x and y axis.\n",
        "plt.title(\"Membership Totals for U.S. by Quarter for 2019 and 2020\")\n",
        "plt.xlabel(\"Quarter\")\n",
        "plt.ylabel(\"Total U.S. Memberships\")\n",
        "\n",
        "#Creating graph legend\n",
        "plt.legend(handles=[mems_2020, mems_2019], loc=\"best\")\n",
        "#Adding grid\n",
        "plt.grid()\n",
        "#plot line graph\n",
        "plt.show()\n",
        "plt.savefig(\"/content/drive/MyDrive/Images/line_memberships_quarter_year.png\")"
      ],
      "execution_count": 217,
      "outputs": [
        {
          "output_type": "display_data",
          "data": {
            "image/png": "[encoded data removed]",
            "text/plain": [
              "<Figure size 432x288 with 1 Axes>"
            ]
          },
          "metadata": {
            "tags": [],
            "needs_background": "light"
          }
        },
        {
          "output_type": "display_data",
          "data": {
            "text/plain": [
              "<Figure size 432x288 with 0 Axes>"
            ]
          },
          "metadata": {
            "tags": []
          }
        }
      ]
    }
  ]
}